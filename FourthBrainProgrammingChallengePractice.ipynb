{
  "nbformat": 4,
  "nbformat_minor": 0,
  "metadata": {
    "colab": {
      "name": "FourthBrainProgrammingChallengePractice.ipynb",
      "provenance": [],
      "collapsed_sections": [],
      "toc_visible": true,
      "mount_file_id": "1UHxJL5q9TA5H3YiCCm6BNO64liX82dCc",
      "authorship_tag": "ABX9TyNsE+Cwfwm8j66i3S8A2hk6",
      "include_colab_link": true
    },
    "kernelspec": {
      "name": "python3",
      "display_name": "Python 3"
    },
    "language_info": {
      "name": "python"
    }
  },
  "cells": [
    {
      "cell_type": "markdown",
      "metadata": {
        "id": "view-in-github",
        "colab_type": "text"
      },
      "source": [
        "<a href=\"https://colab.research.google.com/github/flizzer/PythonDataScienceHandbook/blob/main/FourthBrainProgrammingChallengePractice.ipynb\" target=\"_parent\"><img src=\"https://colab.research.google.com/assets/colab-badge.svg\" alt=\"Open In Colab\"/></a>"
      ]
    },
    {
      "cell_type": "markdown",
      "metadata": {
        "id": "IS5mmqfWX5bx"
      },
      "source": [
        "## Back-end Challenge\n",
        "\n",
        "In the Python file, write a program to perform a GET request on the route https://coderbyte.com/api/challenges/json/age-counting which contains a data key and the value is a string which contains items in the format: key=STRING, age=INTEGER. Your goal is to count how many items exist that have an age equal to or greater than 50, and print this final value.\n",
        "\n",
        "**Example Input**\n",
        "\n",
        "{\"data\":\"key=IAfpK, age=58, key=WNVdi, age=64, key=jp9zt, age=47\"}\n",
        "\n",
        "**Example Output**\n",
        "\n",
        "2\n",
        "\n",
        "**Given Code:**\n",
        "\n",
        "```\n",
        "import requests\n",
        "import numpy as np\n",
        "import pandas as pd\n",
        "\n",
        "r = requests.get('https://coderbyte.com/api/challenges/json/age-counting')\n",
        "print(len(r.json()['data']))\n",
        "\n",
        "\n",
        "Python version\n",
        "--------------\n",
        "3.8.3 [GCC 8.3.0]\n",
        "\n",
        "Packages installed\n",
        "------------------\n",
        "boto3\n",
        "numpy\n",
        "pandas\n",
        "requests\n",
        "scikit-learn\n",
        "scipy\n",
        "\n",
        "output logs will appear here\n",
        "```\n",
        "\n",
        "\n"
      ]
    },
    {
      "cell_type": "code",
      "metadata": {
        "id": "eJAfYPwhZpgF"
      },
      "source": [
        ""
      ],
      "execution_count": null,
      "outputs": []
    }
  ]
}